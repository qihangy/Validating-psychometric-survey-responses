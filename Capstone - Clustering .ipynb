{
 "cells": [
  {
   "cell_type": "code",
   "execution_count": 1,
   "metadata": {},
   "outputs": [
    {
     "name": "stderr",
     "output_type": "stream",
     "text": [
      "Using TensorFlow backend.\n"
     ]
    }
   ],
   "source": [
    "import pandas as pd \n",
    "import re \n",
    "import matplotlib.pyplot as plt\n",
    "import numpy as np\n",
    "import itertools\n",
    "import seaborn as sns\n",
    "from collections import Counter \n",
    "%matplotlib inline\n",
    "\n",
    "from sklearn.model_selection import train_test_split\n",
    "from sklearn.cluster import KMeans \n",
    "from sklearn.decomposition import PCA \n",
    "from sklearn.ensemble import IsolationForest\n",
    "\n",
    "# import the keras library.\n",
    "from keras.layers import Dense\n",
    "from keras.models import Sequential"
   ]
  },
  {
   "cell_type": "code",
   "execution_count": 2,
   "metadata": {},
   "outputs": [
    {
     "data": {
      "text/html": [
       "<div>\n",
       "<style scoped>\n",
       "    .dataframe tbody tr th:only-of-type {\n",
       "        vertical-align: middle;\n",
       "    }\n",
       "\n",
       "    .dataframe tbody tr th {\n",
       "        vertical-align: top;\n",
       "    }\n",
       "\n",
       "    .dataframe thead th {\n",
       "        text-align: right;\n",
       "    }\n",
       "</style>\n",
       "<table border=\"1\" class=\"dataframe\">\n",
       "  <thead>\n",
       "    <tr style=\"text-align: right;\">\n",
       "      <th></th>\n",
       "      <th>num of action</th>\n",
       "      <th>num of delay</th>\n",
       "      <th>numofPt in trajectory</th>\n",
       "      <th>horizontal speed</th>\n",
       "      <th>vertical speed</th>\n",
       "      <th>elapsed time</th>\n",
       "      <th>Average cumulative distance</th>\n",
       "      <th>Avg Curvature</th>\n",
       "      <th>avg moving speed</th>\n",
       "      <th>num of change horizontal</th>\n",
       "    </tr>\n",
       "    <tr>\n",
       "      <th>prolific_id</th>\n",
       "      <th></th>\n",
       "      <th></th>\n",
       "      <th></th>\n",
       "      <th></th>\n",
       "      <th></th>\n",
       "      <th></th>\n",
       "      <th></th>\n",
       "      <th></th>\n",
       "      <th></th>\n",
       "      <th></th>\n",
       "    </tr>\n",
       "  </thead>\n",
       "  <tbody>\n",
       "    <tr>\n",
       "      <th>5b872a3b22f6ff0001f0d2b1</th>\n",
       "      <td>841</td>\n",
       "      <td>27</td>\n",
       "      <td>786</td>\n",
       "      <td>52950.398282</td>\n",
       "      <td>10557.173248</td>\n",
       "      <td>33.646</td>\n",
       "      <td>1013.511978</td>\n",
       "      <td>13.968587</td>\n",
       "      <td>813.315803</td>\n",
       "      <td>653</td>\n",
       "    </tr>\n",
       "    <tr>\n",
       "      <th>5e86044a7ed2b904f387bf4c</th>\n",
       "      <td>3542</td>\n",
       "      <td>124</td>\n",
       "      <td>3542</td>\n",
       "      <td>66204.825633</td>\n",
       "      <td>29769.415343</td>\n",
       "      <td>73.115</td>\n",
       "      <td>1835.708301</td>\n",
       "      <td>4.487900</td>\n",
       "      <td>3113.284952</td>\n",
       "      <td>2822</td>\n",
       "    </tr>\n",
       "    <tr>\n",
       "      <th>5c3f7c6329966300010dce78</th>\n",
       "      <td>647</td>\n",
       "      <td>16</td>\n",
       "      <td>647</td>\n",
       "      <td>73257.258154</td>\n",
       "      <td>75710.877913</td>\n",
       "      <td>16.546</td>\n",
       "      <td>3489.600953</td>\n",
       "      <td>6.252587</td>\n",
       "      <td>3374.447917</td>\n",
       "      <td>559</td>\n",
       "    </tr>\n",
       "    <tr>\n",
       "      <th>5cf62893405986001a14b203</th>\n",
       "      <td>638</td>\n",
       "      <td>34</td>\n",
       "      <td>638</td>\n",
       "      <td>1798.088697</td>\n",
       "      <td>1024.933762</td>\n",
       "      <td>32.975</td>\n",
       "      <td>662.818000</td>\n",
       "      <td>93.661038</td>\n",
       "      <td>683.421134</td>\n",
       "      <td>430</td>\n",
       "    </tr>\n",
       "    <tr>\n",
       "      <th>5be57da1f6b5dd0001170bbe</th>\n",
       "      <td>734</td>\n",
       "      <td>40</td>\n",
       "      <td>734</td>\n",
       "      <td>69227.553644</td>\n",
       "      <td>26568.936248</td>\n",
       "      <td>18.203</td>\n",
       "      <td>1628.279767</td>\n",
       "      <td>224.342197</td>\n",
       "      <td>3578.047050</td>\n",
       "      <td>591</td>\n",
       "    </tr>\n",
       "  </tbody>\n",
       "</table>\n",
       "</div>"
      ],
      "text/plain": [
       "                          num of action  num of delay  numofPt in trajectory  \\\n",
       "prolific_id                                                                    \n",
       "5b872a3b22f6ff0001f0d2b1            841            27                    786   \n",
       "5e86044a7ed2b904f387bf4c           3542           124                   3542   \n",
       "5c3f7c6329966300010dce78            647            16                    647   \n",
       "5cf62893405986001a14b203            638            34                    638   \n",
       "5be57da1f6b5dd0001170bbe            734            40                    734   \n",
       "\n",
       "                          horizontal speed  vertical speed  elapsed time  \\\n",
       "prolific_id                                                                \n",
       "5b872a3b22f6ff0001f0d2b1      52950.398282    10557.173248        33.646   \n",
       "5e86044a7ed2b904f387bf4c      66204.825633    29769.415343        73.115   \n",
       "5c3f7c6329966300010dce78      73257.258154    75710.877913        16.546   \n",
       "5cf62893405986001a14b203       1798.088697     1024.933762        32.975   \n",
       "5be57da1f6b5dd0001170bbe      69227.553644    26568.936248        18.203   \n",
       "\n",
       "                          Average cumulative distance  Avg Curvature  \\\n",
       "prolific_id                                                            \n",
       "5b872a3b22f6ff0001f0d2b1                  1013.511978      13.968587   \n",
       "5e86044a7ed2b904f387bf4c                  1835.708301       4.487900   \n",
       "5c3f7c6329966300010dce78                  3489.600953       6.252587   \n",
       "5cf62893405986001a14b203                   662.818000      93.661038   \n",
       "5be57da1f6b5dd0001170bbe                  1628.279767     224.342197   \n",
       "\n",
       "                          avg moving speed  num of change horizontal  \n",
       "prolific_id                                                           \n",
       "5b872a3b22f6ff0001f0d2b1        813.315803                       653  \n",
       "5e86044a7ed2b904f387bf4c       3113.284952                      2822  \n",
       "5c3f7c6329966300010dce78       3374.447917                       559  \n",
       "5cf62893405986001a14b203        683.421134                       430  \n",
       "5be57da1f6b5dd0001170bbe       3578.047050                       591  "
      ]
     },
     "execution_count": 2,
     "metadata": {},
     "output_type": "execute_result"
    }
   ],
   "source": [
    "df = pd.read_csv('/Users/guapofish/Desktop/mouse_track_data_190_users/page_users/page32.csv')\n",
    "df = df.rename(columns={\"Unnamed: 0\": \"prolific_id\"})\n",
    "df.set_index(df.columns[0],inplace = True)\n",
    "df.head()"
   ]
  },
  {
   "cell_type": "markdown",
   "metadata": {},
   "source": [
    "# 1. Filter methods"
   ]
  },
  {
   "cell_type": "markdown",
   "metadata": {},
   "source": [
    "-- Univariate filter methods evaluate and rank a single feature according to certain criteria. <br/>\n",
    "-- Univariate filter methods evaluate and rank a single feature according to certain criteria."
   ]
  },
  {
   "cell_type": "markdown",
   "metadata": {},
   "source": [
    "# 1.1 Quasi-Constant Features"
   ]
  },
  {
   "cell_type": "code",
   "execution_count": 3,
   "metadata": {},
   "outputs": [
    {
     "name": "stdout",
     "output_type": "stream",
     "text": [
      "[]\n"
     ]
    }
   ],
   "source": [
    "x_train = df \n",
    "\n",
    "##### make a threshold for quasi constant.\n",
    "threshold = 0.5\n",
    "\n",
    "# create empty list\n",
    "quasi_constant_feature = []\n",
    "\n",
    "# loop over all the columns\n",
    "for feature in x_train.columns:\n",
    "\n",
    "    # calculate the ratio.\n",
    "    predominant = (x_train[feature].value_counts() / np.float(len(x_train))).sort_values(ascending=False).values[0]\n",
    "    \n",
    "    # append the column name if it is bigger than the threshold\n",
    "    if predominant >= threshold:\n",
    "        quasi_constant_feature.append(feature)   \n",
    "        \n",
    "print(quasi_constant_feature)\n",
    "\n",
    "# drop the quasi constant columns\n",
    "x_train.drop(labels=quasi_constant_feature, axis=1, inplace=True)\n"
   ]
  },
  {
   "cell_type": "markdown",
   "metadata": {},
   "source": [
    "# 1.2 Correlation Filter Methods"
   ]
  },
  {
   "cell_type": "markdown",
   "metadata": {},
   "source": [
    "-- Pearson correlation coefficient; Spearman’s rank correlation coefficient; Kendall’s rank correlation coefficient <br/>\n",
    "-- By default it is the pearson correlation, but it can also be specified as kendall or spearman."
   ]
  },
  {
   "cell_type": "code",
   "execution_count": 4,
   "metadata": {},
   "outputs": [
    {
     "data": {
      "image/png": "[encoded data removed]",
      "text/plain": [
       "<Figure size 792x792 with 2 Axes>"
      ]
     },
     "metadata": {
      "needs_background": "light"
     },
     "output_type": "display_data"
    }
   ],
   "source": [
    "# creating set to hold the correlated features\n",
    "corr_features = set()\n",
    "\n",
    "# create the correlation matrix (default to pearson)\n",
    "corr_matrix = x_train.corr()\n",
    "\n",
    "# optional: display a heatmap of the correlation matrix\n",
    "plt.figure(figsize=(11,11))\n",
    "sns.heatmap(corr_matrix, annot = True)\n",
    "\n",
    "for i in range(len(corr_matrix .columns)):\n",
    "    for j in range(i):\n",
    "        if abs(corr_matrix.iloc[i, j]) > 0.9:\n",
    "            colname = corr_matrix.columns[i]\n",
    "            corr_features.add(colname)\n",
    "            \n",
    "x_train.drop(labels=corr_features, axis=1, inplace=True)\n"
   ]
  },
  {
   "cell_type": "markdown",
   "metadata": {},
   "source": [
    "# 1.3 Autoencoders for Dimensionality Reduction"
   ]
  },
  {
   "cell_type": "code",
   "execution_count": 5,
   "metadata": {},
   "outputs": [
    {
     "name": "stdout",
     "output_type": "stream",
     "text": [
      "Train on 121 samples, validate on 52 samples\n",
      "Epoch 1/5\n",
      "121/121 [==============================] - 0s 1ms/step - loss: 778894.0305 - val_loss: 781395.3125\n",
      "Epoch 2/5\n",
      "121/121 [==============================] - 0s 41us/step - loss: 768994.0170 - val_loss: 778414.0625\n",
      "Epoch 3/5\n",
      "121/121 [==============================] - 0s 41us/step - loss: 759195.3337 - val_loss: 774669.1250\n",
      "Epoch 4/5\n",
      "121/121 [==============================] - 0s 40us/step - loss: 753519.6560 - val_loss: 771006.3750\n",
      "Epoch 5/5\n",
      "121/121 [==============================] - 0s 41us/step - loss: 745464.3440 - val_loss: 739228.5625\n",
      "[ 1.6066521  -0.29452214  0.9697971  -0.47323057 -0.7424825   0.7923951\n",
      "  1.1057342  -1.3816203   0.35844803]\n"
     ]
    },
    {
     "data": {
      "text/plain": [
       "array([ 1.6066521 , -0.29452214,  0.9697971 , -0.47323057, -0.7424825 ,\n",
       "        0.7923951 ,  1.1057342 , -1.3816203 ,  0.35844803], dtype=float32)"
      ]
     },
     "execution_count": 5,
     "metadata": {},
     "output_type": "execute_result"
    }
   ],
   "source": [
    "x_train = df[:121]\n",
    "x_test = df[122:]\n",
    "\n",
    "# the dimension of the encoding layer.\n",
    "encoding_dim = 9\n",
    "\n",
    "# create the autoencoder.\n",
    "model = Sequential()\n",
    "\n",
    "# add the encoding layer.\n",
    "model.add(Dense(encoding_dim, activation='relu', input_shape=(x_train.shape[1],)))\n",
    "\n",
    "# add the output layer.\n",
    "model.add(Dense(x_train.shape[1], activation='linear'))\n",
    "\n",
    "# compile the model, you can use whatever optimizer.\n",
    "model.compile(optimizer='adadelta', loss='categorical_crossentropy')\n",
    "\n",
    "# fit your model to the training data.\n",
    "model.fit(x_train, x_train,\n",
    "                epochs=5,\n",
    "                batch_size=64,\n",
    "                shuffle=True,\n",
    "                validation_data=(x_test, x_test))\n",
    "\n",
    "# get the first layer weights.\n",
    "weights = model.layers[1].get_weights()[0]\n",
    "\n",
    "# get the feature importance.\n",
    "print(weights.sum(axis = 1))\n",
    "\n",
    "output_weight = model.layers[1].get_weights()[0].sum(axis = 1)\n",
    "output_weight"
   ]
  },
  {
   "cell_type": "code",
   "execution_count": 6,
   "metadata": {},
   "outputs": [
    {
     "data": {
      "text/plain": [
       "'num of delay'"
      ]
     },
     "execution_count": 6,
     "metadata": {},
     "output_type": "execute_result"
    }
   ],
   "source": [
    "df.columns[np.argmin(abs(output_weight))]\n",
    "#not that small, do not throw this feature"
   ]
  },
  {
   "cell_type": "markdown",
   "metadata": {},
   "source": [
    "# 2. K-means Algorithm "
   ]
  },
  {
   "cell_type": "markdown",
   "metadata": {},
   "source": [
    "# 2.1: standardizing the data using StandardScaler"
   ]
  },
  {
   "cell_type": "code",
   "execution_count": 7,
   "metadata": {},
   "outputs": [
    {
     "data": {
      "text/html": [
       "<div>\n",
       "<style scoped>\n",
       "    .dataframe tbody tr th:only-of-type {\n",
       "        vertical-align: middle;\n",
       "    }\n",
       "\n",
       "    .dataframe tbody tr th {\n",
       "        vertical-align: top;\n",
       "    }\n",
       "\n",
       "    .dataframe thead th {\n",
       "        text-align: right;\n",
       "    }\n",
       "</style>\n",
       "<table border=\"1\" class=\"dataframe\">\n",
       "  <thead>\n",
       "    <tr style=\"text-align: right;\">\n",
       "      <th></th>\n",
       "      <th>0</th>\n",
       "      <th>1</th>\n",
       "      <th>2</th>\n",
       "      <th>3</th>\n",
       "      <th>4</th>\n",
       "      <th>5</th>\n",
       "      <th>6</th>\n",
       "      <th>7</th>\n",
       "      <th>8</th>\n",
       "    </tr>\n",
       "  </thead>\n",
       "  <tbody>\n",
       "    <tr>\n",
       "      <th>count</th>\n",
       "      <td>1.740000e+02</td>\n",
       "      <td>1.740000e+02</td>\n",
       "      <td>1.740000e+02</td>\n",
       "      <td>1.740000e+02</td>\n",
       "      <td>1.740000e+02</td>\n",
       "      <td>1.740000e+02</td>\n",
       "      <td>1.740000e+02</td>\n",
       "      <td>1.740000e+02</td>\n",
       "      <td>1.740000e+02</td>\n",
       "    </tr>\n",
       "    <tr>\n",
       "      <th>mean</th>\n",
       "      <td>-9.570888e-18</td>\n",
       "      <td>-7.975740e-18</td>\n",
       "      <td>-5.551115e-17</td>\n",
       "      <td>-1.435633e-17</td>\n",
       "      <td>-2.935072e-17</td>\n",
       "      <td>-6.508204e-17</td>\n",
       "      <td>8.932829e-18</td>\n",
       "      <td>7.656711e-18</td>\n",
       "      <td>9.443276e-17</td>\n",
       "    </tr>\n",
       "    <tr>\n",
       "      <th>std</th>\n",
       "      <td>1.002886e+00</td>\n",
       "      <td>1.002886e+00</td>\n",
       "      <td>1.002886e+00</td>\n",
       "      <td>1.002886e+00</td>\n",
       "      <td>1.002886e+00</td>\n",
       "      <td>1.002886e+00</td>\n",
       "      <td>1.002886e+00</td>\n",
       "      <td>1.002886e+00</td>\n",
       "      <td>1.002886e+00</td>\n",
       "    </tr>\n",
       "    <tr>\n",
       "      <th>min</th>\n",
       "      <td>-9.072926e-01</td>\n",
       "      <td>-2.202637e-01</td>\n",
       "      <td>-9.055518e-01</td>\n",
       "      <td>-8.320838e-01</td>\n",
       "      <td>-1.121892e+00</td>\n",
       "      <td>-1.096559e+00</td>\n",
       "      <td>-3.236870e-01</td>\n",
       "      <td>-1.062770e+00</td>\n",
       "      <td>-1.493136e+00</td>\n",
       "    </tr>\n",
       "    <tr>\n",
       "      <th>25%</th>\n",
       "      <td>-2.908325e-01</td>\n",
       "      <td>-2.105029e-01</td>\n",
       "      <td>-8.674568e-01</td>\n",
       "      <td>-7.993257e-01</td>\n",
       "      <td>-6.538695e-01</td>\n",
       "      <td>-7.223798e-01</td>\n",
       "      <td>-3.038986e-01</td>\n",
       "      <td>-7.650916e-01</td>\n",
       "      <td>-3.490085e-01</td>\n",
       "    </tr>\n",
       "    <tr>\n",
       "      <th>50%</th>\n",
       "      <td>-1.479667e-01</td>\n",
       "      <td>-1.958616e-01</td>\n",
       "      <td>-3.411290e-01</td>\n",
       "      <td>-4.045887e-01</td>\n",
       "      <td>-2.944066e-01</td>\n",
       "      <td>-3.812549e-01</td>\n",
       "      <td>-2.447937e-01</td>\n",
       "      <td>-4.228042e-01</td>\n",
       "      <td>-3.511263e-02</td>\n",
       "    </tr>\n",
       "    <tr>\n",
       "      <th>75%</th>\n",
       "      <td>-5.663427e-03</td>\n",
       "      <td>-1.629189e-01</td>\n",
       "      <td>6.581676e-01</td>\n",
       "      <td>4.493168e-01</td>\n",
       "      <td>2.853455e-01</td>\n",
       "      <td>7.094876e-01</td>\n",
       "      <td>-4.088449e-02</td>\n",
       "      <td>5.245962e-01</td>\n",
       "      <td>2.139569e-01</td>\n",
       "    </tr>\n",
       "    <tr>\n",
       "      <th>max</th>\n",
       "      <td>1.106756e+01</td>\n",
       "      <td>8.930511e+00</td>\n",
       "      <td>3.661830e+00</td>\n",
       "      <td>3.752639e+00</td>\n",
       "      <td>5.620889e+00</td>\n",
       "      <td>4.175790e+00</td>\n",
       "      <td>1.181517e+01</td>\n",
       "      <td>4.844661e+00</td>\n",
       "      <td>7.170846e+00</td>\n",
       "    </tr>\n",
       "  </tbody>\n",
       "</table>\n",
       "</div>"
      ],
      "text/plain": [
       "                  0             1             2             3             4  \\\n",
       "count  1.740000e+02  1.740000e+02  1.740000e+02  1.740000e+02  1.740000e+02   \n",
       "mean  -9.570888e-18 -7.975740e-18 -5.551115e-17 -1.435633e-17 -2.935072e-17   \n",
       "std    1.002886e+00  1.002886e+00  1.002886e+00  1.002886e+00  1.002886e+00   \n",
       "min   -9.072926e-01 -2.202637e-01 -9.055518e-01 -8.320838e-01 -1.121892e+00   \n",
       "25%   -2.908325e-01 -2.105029e-01 -8.674568e-01 -7.993257e-01 -6.538695e-01   \n",
       "50%   -1.479667e-01 -1.958616e-01 -3.411290e-01 -4.045887e-01 -2.944066e-01   \n",
       "75%   -5.663427e-03 -1.629189e-01  6.581676e-01  4.493168e-01  2.853455e-01   \n",
       "max    1.106756e+01  8.930511e+00  3.661830e+00  3.752639e+00  5.620889e+00   \n",
       "\n",
       "                  5             6             7             8  \n",
       "count  1.740000e+02  1.740000e+02  1.740000e+02  1.740000e+02  \n",
       "mean  -6.508204e-17  8.932829e-18  7.656711e-18  9.443276e-17  \n",
       "std    1.002886e+00  1.002886e+00  1.002886e+00  1.002886e+00  \n",
       "min   -1.096559e+00 -3.236870e-01 -1.062770e+00 -1.493136e+00  \n",
       "25%   -7.223798e-01 -3.038986e-01 -7.650916e-01 -3.490085e-01  \n",
       "50%   -3.812549e-01 -2.447937e-01 -4.228042e-01 -3.511263e-02  \n",
       "75%    7.094876e-01 -4.088449e-02  5.245962e-01  2.139569e-01  \n",
       "max    4.175790e+00  1.181517e+01  4.844661e+00  7.170846e+00  "
      ]
     },
     "execution_count": 7,
     "metadata": {},
     "output_type": "execute_result"
    }
   ],
   "source": [
    "# standardizing the data\n",
    "from sklearn.preprocessing import StandardScaler\n",
    "scaler = StandardScaler()\n",
    "data_scaled = scaler.fit_transform(df)\n",
    "\n",
    "# statistics of scaled data\n",
    "pd.DataFrame(data_scaled).describe()"
   ]
  },
  {
   "cell_type": "markdown",
   "metadata": {},
   "source": [
    "Elbow method:"
   ]
  },
  {
   "cell_type": "code",
   "execution_count": 8,
   "metadata": {},
   "outputs": [
    {
     "data": {
      "text/plain": [
       "Text(0, 0.5, 'Inertia')"
      ]
     },
     "execution_count": 8,
     "metadata": {},
     "output_type": "execute_result"
    },
    {
     "data": {
      "image/png": "[encoded data removed]",
      "text/plain": [
       "<Figure size 864x432 with 1 Axes>"
      ]
     },
     "metadata": {
      "needs_background": "light"
     },
     "output_type": "display_data"
    }
   ],
   "source": [
    "# fitting multiple k-means algorithms and storing the values in an empty list\n",
    "SSE = []\n",
    "for cluster in range(1,20):\n",
    "    kmeans = KMeans(n_jobs = -1, n_clusters = cluster, init='k-means++')\n",
    "    kmeans.fit(data_scaled)\n",
    "    SSE.append(kmeans.inertia_)\n",
    "\n",
    "# converting the results into a dataframe and plotting them\n",
    "frame = pd.DataFrame({'Cluster':range(1,20), 'SSE':SSE})\n",
    "plt.figure(figsize=(12,6))\n",
    "plt.plot(frame['Cluster'], frame['SSE'], marker='o')\n",
    "plt.xlabel('Number of clusters')\n",
    "plt.ylabel('Inertia')"
   ]
  },
  {
   "cell_type": "code",
   "execution_count": 9,
   "metadata": {},
   "outputs": [
    {
     "data": {
      "text/plain": [
       "0    106\n",
       "1     67\n",
       "2      1\n",
       "Name: cluster, dtype: int64"
      ]
     },
     "execution_count": 9,
     "metadata": {},
     "output_type": "execute_result"
    }
   ],
   "source": [
    "# k means using 3 clusters and k-means++ initialization\n",
    "kmeans = KMeans(n_jobs = -1, n_clusters = 3, init='k-means++',max_iter=300, n_init=10, random_state=0)\n",
    "kmeans.fit(data_scaled)\n",
    "pred = kmeans.predict(data_scaled)\n",
    "\n",
    "frame = pd.DataFrame(data_scaled)\n",
    "frame['cluster'] = pred\n",
    "frame['cluster'].value_counts()"
   ]
  },
  {
   "cell_type": "code",
   "execution_count": 10,
   "metadata": {},
   "outputs": [],
   "source": [
    "idx = frame['cluster'].value_counts().argmin()\n",
    "cluster_num = frame['cluster'].value_counts().index[idx]\n",
    "outliner_df = frame[frame['cluster'] == cluster_num]\n",
    "l_kmeans_scaled = list(df.index[outliner_df.index])"
   ]
  },
  {
   "cell_type": "markdown",
   "metadata": {},
   "source": [
    "# 2.2: adding PCA for dimension reduction"
   ]
  },
  {
   "cell_type": "code",
   "execution_count": 11,
   "metadata": {},
   "outputs": [
    {
     "data": {
      "text/html": [
       "<div>\n",
       "<style scoped>\n",
       "    .dataframe tbody tr th:only-of-type {\n",
       "        vertical-align: middle;\n",
       "    }\n",
       "\n",
       "    .dataframe tbody tr th {\n",
       "        vertical-align: top;\n",
       "    }\n",
       "\n",
       "    .dataframe thead th {\n",
       "        text-align: right;\n",
       "    }\n",
       "</style>\n",
       "<table border=\"1\" class=\"dataframe\">\n",
       "  <thead>\n",
       "    <tr style=\"text-align: right;\">\n",
       "      <th></th>\n",
       "      <th>0</th>\n",
       "      <th>1</th>\n",
       "      <th>2</th>\n",
       "    </tr>\n",
       "  </thead>\n",
       "  <tbody>\n",
       "    <tr>\n",
       "      <th>0</th>\n",
       "      <td>8635.790067</td>\n",
       "      <td>-15348.843416</td>\n",
       "      <td>-2259.826248</td>\n",
       "    </tr>\n",
       "    <tr>\n",
       "      <th>1</th>\n",
       "      <td>29173.893030</td>\n",
       "      <td>-4147.036862</td>\n",
       "      <td>-1226.609288</td>\n",
       "    </tr>\n",
       "    <tr>\n",
       "      <th>2</th>\n",
       "      <td>56097.575725</td>\n",
       "      <td>33782.078878</td>\n",
       "      <td>-713.248945</td>\n",
       "    </tr>\n",
       "    <tr>\n",
       "      <th>3</th>\n",
       "      <td>-41336.283288</td>\n",
       "      <td>-945.403424</td>\n",
       "      <td>-632.704942</td>\n",
       "    </tr>\n",
       "    <tr>\n",
       "      <th>4</th>\n",
       "      <td>30435.107187</td>\n",
       "      <td>-8347.135831</td>\n",
       "      <td>-1316.091358</td>\n",
       "    </tr>\n",
       "  </tbody>\n",
       "</table>\n",
       "</div>"
      ],
      "text/plain": [
       "              0             1            2\n",
       "0   8635.790067 -15348.843416 -2259.826248\n",
       "1  29173.893030  -4147.036862 -1226.609288\n",
       "2  56097.575725  33782.078878  -713.248945\n",
       "3 -41336.283288   -945.403424  -632.704942\n",
       "4  30435.107187  -8347.135831 -1316.091358"
      ]
     },
     "execution_count": 11,
     "metadata": {},
     "output_type": "execute_result"
    }
   ],
   "source": [
    "pca = PCA(3) \n",
    "pca.fit(df) \n",
    "  \n",
    "pca_data = pd.DataFrame(pca.transform(df)) \n",
    "pca_data.head()"
   ]
  },
  {
   "cell_type": "code",
   "execution_count": 12,
   "metadata": {},
   "outputs": [
    {
     "data": {
      "text/plain": [
       "Text(0, 0.5, 'Inertia')"
      ]
     },
     "execution_count": 12,
     "metadata": {},
     "output_type": "execute_result"
    },
    {
     "data": {
      "image/png": "[encoded data removed]",
      "text/plain": [
       "<Figure size 864x432 with 1 Axes>"
      ]
     },
     "metadata": {
      "needs_background": "light"
     },
     "output_type": "display_data"
    }
   ],
   "source": [
    "#elbow method:\n",
    "SSE = []\n",
    "for cluster in range(1,20):\n",
    "    kmeans = KMeans(n_jobs = -1, n_clusters = cluster, init='k-means++',\n",
    "                    max_iter=300, n_init=10, random_state=0).fit(pca_data)\n",
    "    SSE.append(kmeans.inertia_)\n",
    "\n",
    "# converting the results into a dataframe and plotting the elbow\n",
    "frame2 = pd.DataFrame({'Cluster':range(1,20), 'SSE':SSE})\n",
    "plt.figure(figsize=(12,6))\n",
    "plt.plot(frame2['Cluster'], frame2['SSE'], marker='o')\n",
    "plt.xlabel('Number of clusters')\n",
    "plt.ylabel('Inertia')"
   ]
  },
  {
   "cell_type": "code",
   "execution_count": 13,
   "metadata": {},
   "outputs": [
    {
     "data": {
      "text/plain": [
       "1    89\n",
       "0    61\n",
       "2    24\n",
       "Name: cluster, dtype: int64"
      ]
     },
     "execution_count": 13,
     "metadata": {},
     "output_type": "execute_result"
    }
   ],
   "source": [
    "kmeans = KMeans(n_jobs = -1, n_clusters = 3, init='k-means++',max_iter=300, n_init=10, random_state=0)\n",
    "#k-means++ ensures that you get don’t fall into the random initialization trap.\n",
    "kmeans.fit(pca_data)\n",
    "pred = kmeans.predict(pca_data)\n",
    "\n",
    "pca_data['cluster'] = pred\n",
    "pca_data['cluster'].value_counts()"
   ]
  },
  {
   "cell_type": "code",
   "execution_count": 14,
   "metadata": {},
   "outputs": [
    {
     "data": {
      "text/plain": [
       "(['5c24e83ac298750001776310'],\n",
       " ['5c3f7c6329966300010dce78',\n",
       "  '5e2712e1f1fa1b9422ea194a',\n",
       "  '5e93301515768a1680c9705a',\n",
       "  '5c9cb670b472d0001295f377',\n",
       "  '5e8b0faa3d71b07b69ef26f4',\n",
       "  '5d46db7698512400018c1c52',\n",
       "  '5d20d61a7afc290015e5a7a5',\n",
       "  '5c4266e71fad93000122d5cf',\n",
       "  '5aea56160335e200019ea543',\n",
       "  '5ae9a58f41193b0001fd40fe',\n",
       "  '5e91128ddf10df4440f6243f',\n",
       "  '5dbc534dcc227d1f37845307',\n",
       "  '5e0fa7a85005cc6c6348dc8a',\n",
       "  '587905adc34844000174ee45',\n",
       "  '5d8aa1e3eab19600163d9ab7',\n",
       "  '5e89eebae770eb68ac82c705',\n",
       "  '5b9783b4e189b0000188e956',\n",
       "  '5a25c8a96267fa00016e3fb4',\n",
       "  '5df2235d5a34251266ea645e',\n",
       "  '5e33927476397a369848edf8',\n",
       "  '5e2a0c147554ec075dcd5030',\n",
       "  '5d5047590ea65a001adcec9f',\n",
       "  '5de4280370c53a011839950f',\n",
       "  '5c02b1bad84faa0001489709'])"
      ]
     },
     "execution_count": 14,
     "metadata": {},
     "output_type": "execute_result"
    }
   ],
   "source": [
    "idx = pca_data['cluster'].value_counts().argmin()\n",
    "cluster_num = pca_data['cluster'].value_counts().index[idx]\n",
    "outliner_pca_df = pca_data[pca_data['cluster'] == cluster_num]\n",
    "l_kmeansPca = list(df.index[outliner_pca_df.index])\n",
    "\n",
    "#compare l_kmeans_scaled and l_kmeansPca:\n",
    "l_kmeans_scaled, l_kmeansPca"
   ]
  },
  {
   "cell_type": "markdown",
   "metadata": {},
   "source": [
    "Conclusion: The results of cell [10] have some overlap ids, we might add the em algorithm for kmeans algo in the future, but so far we want to introduce another beautiful algorithm to detect the outliner which is the Isolation Forest Algorithm "
   ]
  },
  {
   "cell_type": "markdown",
   "metadata": {},
   "source": [
    "# 2.3 mutally select pairs based on the lowest inertia:"
   ]
  },
  {
   "cell_type": "code",
   "execution_count": 15,
   "metadata": {},
   "outputs": [],
   "source": [
    "def get_npair_2DKmeans(n):    \n",
    "\n",
    "    range_num = len(df.columns)\n",
    "    combo = list(itertools.combinations(range(range_num), 2))\n",
    "    kmeans = KMeans(n_jobs = -1, n_clusters = 3, init='k-means++')\n",
    "    inertia = []\n",
    "\n",
    "    for item in combo:\n",
    "        data = pd.DataFrame(data_scaled)[[item[0],item[1]]]  \n",
    "        kmeans.fit(data)\n",
    "        inertia.append(kmeans.inertia_)\n",
    "\n",
    "    l_sort = sorted(inertia, reverse=False)\n",
    "    outputPair = []\n",
    "    km = []\n",
    "    \n",
    "    for i in range(n):\n",
    "        c = combo[inertia.index(l_sort[i])]\n",
    "        outputPair.append([df.columns[c[0]],df.columns[c[1]]])     \n",
    "        \n",
    "        f = pd.DataFrame(data_scaled)[[c[0],c[1]]]     \n",
    "        kmean = KMeans(n_jobs = -1, n_clusters = 3, init='k-means++')\n",
    "        kmean.fit(f)\n",
    "        pred = kmean.predict(f)\n",
    "        \n",
    "        f['cluster'] = pred      \n",
    "        idx = f['cluster'].value_counts().argmin()\n",
    "        cluster_num = f['cluster'].value_counts().index[idx]\n",
    "        outliner_df = f[f['cluster'] == cluster_num]\n",
    "        km = km + list(df.index[outliner_df.index])\n",
    "        \n",
    "    return outputPair,km\n",
    "\n",
    "def get_npair_3DKmeans(n):\n",
    "\n",
    "    range_num = len(df.columns)\n",
    "    combo = list(itertools.combinations(range(range_num), 3))\n",
    "    kmeans = KMeans(n_jobs = -1, n_clusters = 3, init='k-means++')\n",
    "    inertia = []\n",
    "\n",
    "    for item in combo:\n",
    "        data = pd.DataFrame(data_scaled)[[item[0],item[1],item[2]]]  \n",
    "        kmeans.fit(data)\n",
    "        inertia.append(kmeans.inertia_)\n",
    "\n",
    "    l_sort = sorted(inertia, reverse=False)\n",
    "    outputPair = []\n",
    "    km = []\n",
    "    \n",
    "    for i in range(n):\n",
    "        c = combo[inertia.index(l_sort[i])]\n",
    "        outputPair.append([df.columns[c[0]],df.columns[c[1]],df.columns[c[2]]])     \n",
    "        \n",
    "        f = pd.DataFrame(data_scaled)[[c[0],c[1],c[2]]]     \n",
    "        kmean = KMeans(n_jobs = -1, n_clusters = 3, init='k-means++')\n",
    "        kmean.fit(f)\n",
    "        pred = kmean.predict(f)\n",
    "        \n",
    "        f['cluster'] = pred      \n",
    "        idx = f['cluster'].value_counts().argmin()\n",
    "        cluster_num = f['cluster'].value_counts().index[idx]\n",
    "        outliner_df = f[f['cluster'] == cluster_num]\n",
    "        km = km + list(df.index[outliner_df.index])\n",
    "        \n",
    "    return outputPair,km"
   ]
  },
  {
   "cell_type": "code",
   "execution_count": 16,
   "metadata": {},
   "outputs": [
    {
     "data": {
      "text/plain": [
       "Counter({'5c24e83ac298750001776310': 6,\n",
       "         '5be0662dea836b0001e9870f': 2,\n",
       "         '5c3f7c6329966300010dce78': 2,\n",
       "         '5e2712e1f1fa1b9422ea194a': 2,\n",
       "         '5e93301515768a1680c9705a': 2,\n",
       "         '5c3ce3a6de04ad0001d8a6cc': 2,\n",
       "         '5c9cb670b472d0001295f377': 2,\n",
       "         '5d46db7698512400018c1c52': 2,\n",
       "         '5d20d61a7afc290015e5a7a5': 2,\n",
       "         '5c4266e71fad93000122d5cf': 2,\n",
       "         '5aea56160335e200019ea543': 2,\n",
       "         '5bd6f3369c5d1f000195e70c': 2,\n",
       "         '5ae9a58f41193b0001fd40fe': 2,\n",
       "         '5e91128ddf10df4440f6243f': 2,\n",
       "         '5dbc534dcc227d1f37845307': 2,\n",
       "         '5e0fa7a85005cc6c6348dc8a': 2,\n",
       "         '587905adc34844000174ee45': 2,\n",
       "         '5d8aa1e3eab19600163d9ab7': 2,\n",
       "         '5e89eebae770eb68ac82c705': 2,\n",
       "         '5b9783b4e189b0000188e956': 2,\n",
       "         '5a25c8a96267fa00016e3fb4': 2,\n",
       "         '5df2235d5a34251266ea645e': 2,\n",
       "         '5e33927476397a369848edf8': 2,\n",
       "         '5e2a0c147554ec075dcd5030': 2,\n",
       "         '5d5047590ea65a001adcec9f': 2,\n",
       "         '5de4280370c53a011839950f': 2,\n",
       "         '5c02b1bad84faa0001489709': 2,\n",
       "         '5e980cf3b3aaca000b89841e': 4,\n",
       "         '5d5a694c3aa59b00010f2c16': 4,\n",
       "         '5d964f340849000013172b22': 4,\n",
       "         '5e5e27e5c0bc86139fd7f9f3': 4,\n",
       "         '5dd6f1d7c5faa268624c5037': 1,\n",
       "         '5d4602322f66d0001a1208c7': 1,\n",
       "         '5e8b0faa3d71b07b69ef26f4': 1})"
      ]
     },
     "execution_count": 16,
     "metadata": {},
     "output_type": "execute_result"
    }
   ],
   "source": [
    "outputPair2D, l_K_means2D_outlier = get_npair_2DKmeans(5)\n",
    "outputPair3D, l_K_means3D_outlier = get_npair_3DKmeans(5)\n",
    "\n",
    "#set(l_K_means2D_outlier).difference(set(l_K_means3D_outlier_user)); length = 7\n",
    "counter_mutualPair = Counter(l_K_means2D_outlier+l_K_means3D_outlier)\n",
    "counter_mutualPair"
   ]
  },
  {
   "cell_type": "markdown",
   "metadata": {},
   "source": [
    "# 3. Isolation Forest Algorithm"
   ]
  },
  {
   "cell_type": "markdown",
   "metadata": {},
   "source": [
    "Isolation Forest is based on the Decision Tree algorithm. It isolates the outliers by randomly selecting a feature from the given set of features and then randomly selecting a split value between the max and min values of that feature. This random partitioning of features will produce shorter paths in trees for the anomalous data points, thus distinguishing them from the rest of the data."
   ]
  },
  {
   "cell_type": "markdown",
   "metadata": {},
   "source": [
    "Using Isolation Forest, we can not only detect anomalies faster but we also require less memory compared to other algorithms."
   ]
  },
  {
   "cell_type": "code",
   "execution_count": 17,
   "metadata": {},
   "outputs": [],
   "source": [
    "def isolation_Forest_Algo(df):\n",
    "    \n",
    "    ##apply an Isolation forest\n",
    "    model=IsolationForest(n_estimators=50, max_samples='auto', contamination=float(0.1),max_features=1.0)\n",
    "    model.fit(df)\n",
    "    scores =model.decision_function(df)\n",
    "\n",
    "    outlier_detect = IsolationForest(n_estimators=100, max_samples=1000, contamination=.04, max_features=df.shape[1])\n",
    "    outlier_detect.fit(df)\n",
    "    outliers_predicted = outlier_detect.predict(df)\n",
    "\n",
    "    #check the results\n",
    "    df['outlier'] = outliers_predicted\n",
    "    df['scores'] = scores\n",
    "    \n",
    "    outliner_iso_forest = list(df[df.outlier != 1].index)\n",
    "    return outliner_iso_forest,df\n"
   ]
  },
  {
   "cell_type": "code",
   "execution_count": 18,
   "metadata": {},
   "outputs": [
    {
     "name": "stderr",
     "output_type": "stream",
     "text": [
      "/Users/guapofish/opt/anaconda3/lib/python3.7/site-packages/sklearn/ensemble/_iforest.py:281: UserWarning: max_samples (1000) is greater than the total number of samples (174). max_samples will be set to n_samples for estimation.\n",
      "  % (self.max_samples, n_samples))\n"
     ]
    },
    {
     "data": {
      "text/plain": [
       "['5e86044a7ed2b904f387bf4c',\n",
       " '5be0662dea836b0001e9870f',\n",
       " '5c24e83ac298750001776310',\n",
       " '5e7d2f16e863ba0d96dc610f',\n",
       " '5d5a694c3aa59b00010f2c16',\n",
       " '5df2235d5a34251266ea645e',\n",
       " '5c02b1bad84faa0001489709']"
      ]
     },
     "execution_count": 18,
     "metadata": {},
     "output_type": "execute_result"
    }
   ],
   "source": [
    "l,iso_forest_df = isolation_Forest_Algo(df)\n",
    "l"
   ]
  },
  {
   "cell_type": "code",
   "execution_count": null,
   "metadata": {},
   "outputs": [],
   "source": []
  }
 ],
 "metadata": {
  "kernelspec": {
   "display_name": "Python 3",
   "language": "python",
   "name": "python3"
  },
  "language_info": {
   "codemirror_mode": {
    "name": "ipython",
    "version": 3
   },
   "file_extension": ".py",
   "mimetype": "text/x-python",
   "name": "python",
   "nbconvert_exporter": "python",
   "pygments_lexer": "ipython3",
   "version": "3.7.6"
  }
 },
 "nbformat": 4,
 "nbformat_minor": 4
}
